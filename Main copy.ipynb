{
 "cells": [
  {
   "cell_type": "code",
   "execution_count": null,
   "metadata": {},
   "outputs": [],
   "source": [
    "from sklearn import metrics\n",
    "from sklearn.metrics import confusion_matrix\n",
    "import pandas as pd\n",
    "\n",
    "\n",
    "print(\"Accuracy: \", metrics.accuracy_score(test_sln,predictions))\n",
    "\n",
    "#call the function from above to get a pretty conf_mat:\n",
    "print_confusion_matrix(test_sln, predictions, True)\n",
    "\n",
    "# or:\n",
    "vals = data[target].unique() ## possible classification values (species)\n",
    "conf_mat = metrics.confusion_matrix(test_sln, predictions, labels=vals)\n",
    "print(pd.DataFrame(conf_mat, index = \"True \" + vals, columns = \"Pred \" + vals))"
   ]
  }
 ],
 "metadata": {
  "kernelspec": {
   "display_name": "base",
   "language": "python",
   "name": "python3"
  },
  "language_info": {
   "name": "python",
   "version": "3.9.7 (default, Sep 16 2021, 13:09:58) \n[GCC 7.5.0]"
  },
  "orig_nbformat": 4,
  "vscode": {
   "interpreter": {
    "hash": "08b152a43b990657280b5bd1f6b4d6b9ebb44a72f30ddd67cde5a313bf6c538b"
   }
  }
 },
 "nbformat": 4,
 "nbformat_minor": 2
}
